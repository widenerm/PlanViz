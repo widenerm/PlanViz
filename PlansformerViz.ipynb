{
  "cells": [
    {
      "cell_type": "markdown",
      "source": [
        "##Setup"
      ],
      "metadata": {
        "id": "_uoPPP1NLzXB"
      }
    },
    {
      "cell_type": "code",
      "execution_count": null,
      "metadata": {
        "colab": {
          "base_uri": "https://localhost:8080/"
        },
        "id": "UCvdYH_mOW49",
        "outputId": "8fa9725a-7fd9-4a56-c9c7-8a378aa3558d"
      },
      "outputs": [
        {
          "output_type": "stream",
          "name": "stdout",
          "text": [
            "Requirement already satisfied: sentencepiece in /usr/local/lib/python3.10/dist-packages (0.1.99)\n",
            "Requirement already satisfied: transformers in /usr/local/lib/python3.10/dist-packages (4.42.4)\n",
            "Requirement already satisfied: filelock in /usr/local/lib/python3.10/dist-packages (from transformers) (3.15.4)\n",
            "Requirement already satisfied: huggingface-hub<1.0,>=0.23.2 in /usr/local/lib/python3.10/dist-packages (from transformers) (0.23.5)\n",
            "Requirement already satisfied: numpy<2.0,>=1.17 in /usr/local/lib/python3.10/dist-packages (from transformers) (1.25.2)\n",
            "Requirement already satisfied: packaging>=20.0 in /usr/local/lib/python3.10/dist-packages (from transformers) (24.1)\n",
            "Requirement already satisfied: pyyaml>=5.1 in /usr/local/lib/python3.10/dist-packages (from transformers) (6.0.1)\n",
            "Requirement already satisfied: regex!=2019.12.17 in /usr/local/lib/python3.10/dist-packages (from transformers) (2024.5.15)\n",
            "Requirement already satisfied: requests in /usr/local/lib/python3.10/dist-packages (from transformers) (2.31.0)\n",
            "Requirement already satisfied: safetensors>=0.4.1 in /usr/local/lib/python3.10/dist-packages (from transformers) (0.4.3)\n",
            "Requirement already satisfied: tokenizers<0.20,>=0.19 in /usr/local/lib/python3.10/dist-packages (from transformers) (0.19.1)\n",
            "Requirement already satisfied: tqdm>=4.27 in /usr/local/lib/python3.10/dist-packages (from transformers) (4.66.4)\n",
            "Requirement already satisfied: fsspec>=2023.5.0 in /usr/local/lib/python3.10/dist-packages (from huggingface-hub<1.0,>=0.23.2->transformers) (2023.6.0)\n",
            "Requirement already satisfied: typing-extensions>=3.7.4.3 in /usr/local/lib/python3.10/dist-packages (from huggingface-hub<1.0,>=0.23.2->transformers) (4.12.2)\n",
            "Requirement already satisfied: charset-normalizer<4,>=2 in /usr/local/lib/python3.10/dist-packages (from requests->transformers) (3.3.2)\n",
            "Requirement already satisfied: idna<4,>=2.5 in /usr/local/lib/python3.10/dist-packages (from requests->transformers) (3.7)\n",
            "Requirement already satisfied: urllib3<3,>=1.21.1 in /usr/local/lib/python3.10/dist-packages (from requests->transformers) (2.0.7)\n",
            "Requirement already satisfied: certifi>=2017.4.17 in /usr/local/lib/python3.10/dist-packages (from requests->transformers) (2024.7.4)\n",
            "Collecting bertviz\n",
            "  Downloading bertviz-1.4.0-py3-none-any.whl (157 kB)\n",
            "\u001b[2K     \u001b[90m━━━━━━━━━━━━━━━━━━━━━━━━━━━━━━━━━━━━━━━━\u001b[0m \u001b[32m157.6/157.6 kB\u001b[0m \u001b[31m4.6 MB/s\u001b[0m eta \u001b[36m0:00:00\u001b[0m\n",
            "\u001b[?25hRequirement already satisfied: transformers>=2.0 in /usr/local/lib/python3.10/dist-packages (from bertviz) (4.42.4)\n",
            "Requirement already satisfied: torch>=1.0 in /usr/local/lib/python3.10/dist-packages (from bertviz) (2.3.1+cu121)\n",
            "Requirement already satisfied: tqdm in /usr/local/lib/python3.10/dist-packages (from bertviz) (4.66.4)\n",
            "Collecting boto3 (from bertviz)\n",
            "  Downloading boto3-1.34.147-py3-none-any.whl (139 kB)\n",
            "\u001b[2K     \u001b[90m━━━━━━━━━━━━━━━━━━━━━━━━━━━━━━━━━━━━━━━━\u001b[0m \u001b[32m139.2/139.2 kB\u001b[0m \u001b[31m7.4 MB/s\u001b[0m eta \u001b[36m0:00:00\u001b[0m\n",
            "\u001b[?25hRequirement already satisfied: requests in /usr/local/lib/python3.10/dist-packages (from bertviz) (2.31.0)\n",
            "Requirement already satisfied: regex in /usr/local/lib/python3.10/dist-packages (from bertviz) (2024.5.15)\n",
            "Requirement already satisfied: sentencepiece in /usr/local/lib/python3.10/dist-packages (from bertviz) (0.1.99)\n",
            "Requirement already satisfied: filelock in /usr/local/lib/python3.10/dist-packages (from torch>=1.0->bertviz) (3.15.4)\n",
            "Requirement already satisfied: typing-extensions>=4.8.0 in /usr/local/lib/python3.10/dist-packages (from torch>=1.0->bertviz) (4.12.2)\n",
            "Requirement already satisfied: sympy in /usr/local/lib/python3.10/dist-packages (from torch>=1.0->bertviz) (1.13.0)\n",
            "Requirement already satisfied: networkx in /usr/local/lib/python3.10/dist-packages (from torch>=1.0->bertviz) (3.3)\n",
            "Requirement already satisfied: jinja2 in /usr/local/lib/python3.10/dist-packages (from torch>=1.0->bertviz) (3.1.4)\n",
            "Requirement already satisfied: fsspec in /usr/local/lib/python3.10/dist-packages (from torch>=1.0->bertviz) (2023.6.0)\n",
            "Collecting nvidia-cuda-nvrtc-cu12==12.1.105 (from torch>=1.0->bertviz)\n",
            "  Using cached nvidia_cuda_nvrtc_cu12-12.1.105-py3-none-manylinux1_x86_64.whl (23.7 MB)\n",
            "Collecting nvidia-cuda-runtime-cu12==12.1.105 (from torch>=1.0->bertviz)\n",
            "  Using cached nvidia_cuda_runtime_cu12-12.1.105-py3-none-manylinux1_x86_64.whl (823 kB)\n",
            "Collecting nvidia-cuda-cupti-cu12==12.1.105 (from torch>=1.0->bertviz)\n",
            "  Using cached nvidia_cuda_cupti_cu12-12.1.105-py3-none-manylinux1_x86_64.whl (14.1 MB)\n",
            "Collecting nvidia-cudnn-cu12==8.9.2.26 (from torch>=1.0->bertviz)\n",
            "  Using cached nvidia_cudnn_cu12-8.9.2.26-py3-none-manylinux1_x86_64.whl (731.7 MB)\n",
            "Collecting nvidia-cublas-cu12==12.1.3.1 (from torch>=1.0->bertviz)\n",
            "  Using cached nvidia_cublas_cu12-12.1.3.1-py3-none-manylinux1_x86_64.whl (410.6 MB)\n",
            "Collecting nvidia-cufft-cu12==11.0.2.54 (from torch>=1.0->bertviz)\n",
            "  Using cached nvidia_cufft_cu12-11.0.2.54-py3-none-manylinux1_x86_64.whl (121.6 MB)\n",
            "Collecting nvidia-curand-cu12==10.3.2.106 (from torch>=1.0->bertviz)\n",
            "  Using cached nvidia_curand_cu12-10.3.2.106-py3-none-manylinux1_x86_64.whl (56.5 MB)\n",
            "Collecting nvidia-cusolver-cu12==11.4.5.107 (from torch>=1.0->bertviz)\n",
            "  Using cached nvidia_cusolver_cu12-11.4.5.107-py3-none-manylinux1_x86_64.whl (124.2 MB)\n",
            "Collecting nvidia-cusparse-cu12==12.1.0.106 (from torch>=1.0->bertviz)\n",
            "  Using cached nvidia_cusparse_cu12-12.1.0.106-py3-none-manylinux1_x86_64.whl (196.0 MB)\n",
            "Collecting nvidia-nccl-cu12==2.20.5 (from torch>=1.0->bertviz)\n",
            "  Using cached nvidia_nccl_cu12-2.20.5-py3-none-manylinux2014_x86_64.whl (176.2 MB)\n",
            "Collecting nvidia-nvtx-cu12==12.1.105 (from torch>=1.0->bertviz)\n",
            "  Using cached nvidia_nvtx_cu12-12.1.105-py3-none-manylinux1_x86_64.whl (99 kB)\n",
            "Requirement already satisfied: triton==2.3.1 in /usr/local/lib/python3.10/dist-packages (from torch>=1.0->bertviz) (2.3.1)\n",
            "Collecting nvidia-nvjitlink-cu12 (from nvidia-cusolver-cu12==11.4.5.107->torch>=1.0->bertviz)\n",
            "  Downloading nvidia_nvjitlink_cu12-12.5.82-py3-none-manylinux2014_x86_64.whl (21.3 MB)\n",
            "\u001b[2K     \u001b[90m━━━━━━━━━━━━━━━━━━━━━━━━━━━━━━━━━━━━━━━━\u001b[0m \u001b[32m21.3/21.3 MB\u001b[0m \u001b[31m53.9 MB/s\u001b[0m eta \u001b[36m0:00:00\u001b[0m\n",
            "\u001b[?25hRequirement already satisfied: huggingface-hub<1.0,>=0.23.2 in /usr/local/lib/python3.10/dist-packages (from transformers>=2.0->bertviz) (0.23.5)\n",
            "Requirement already satisfied: numpy<2.0,>=1.17 in /usr/local/lib/python3.10/dist-packages (from transformers>=2.0->bertviz) (1.25.2)\n",
            "Requirement already satisfied: packaging>=20.0 in /usr/local/lib/python3.10/dist-packages (from transformers>=2.0->bertviz) (24.1)\n",
            "Requirement already satisfied: pyyaml>=5.1 in /usr/local/lib/python3.10/dist-packages (from transformers>=2.0->bertviz) (6.0.1)\n",
            "Requirement already satisfied: safetensors>=0.4.1 in /usr/local/lib/python3.10/dist-packages (from transformers>=2.0->bertviz) (0.4.3)\n",
            "Requirement already satisfied: tokenizers<0.20,>=0.19 in /usr/local/lib/python3.10/dist-packages (from transformers>=2.0->bertviz) (0.19.1)\n",
            "Collecting botocore<1.35.0,>=1.34.147 (from boto3->bertviz)\n",
            "  Downloading botocore-1.34.147-py3-none-any.whl (12.4 MB)\n",
            "\u001b[2K     \u001b[90m━━━━━━━━━━━━━━━━━━━━━━━━━━━━━━━━━━━━━━━━\u001b[0m \u001b[32m12.4/12.4 MB\u001b[0m \u001b[31m71.8 MB/s\u001b[0m eta \u001b[36m0:00:00\u001b[0m\n",
            "\u001b[?25hCollecting jmespath<2.0.0,>=0.7.1 (from boto3->bertviz)\n",
            "  Downloading jmespath-1.0.1-py3-none-any.whl (20 kB)\n",
            "Collecting s3transfer<0.11.0,>=0.10.0 (from boto3->bertviz)\n",
            "  Downloading s3transfer-0.10.2-py3-none-any.whl (82 kB)\n",
            "\u001b[2K     \u001b[90m━━━━━━━━━━━━━━━━━━━━━━━━━━━━━━━━━━━━━━━━\u001b[0m \u001b[32m82.7/82.7 kB\u001b[0m \u001b[31m11.8 MB/s\u001b[0m eta \u001b[36m0:00:00\u001b[0m\n",
            "\u001b[?25hRequirement already satisfied: charset-normalizer<4,>=2 in /usr/local/lib/python3.10/dist-packages (from requests->bertviz) (3.3.2)\n",
            "Requirement already satisfied: idna<4,>=2.5 in /usr/local/lib/python3.10/dist-packages (from requests->bertviz) (3.7)\n",
            "Requirement already satisfied: urllib3<3,>=1.21.1 in /usr/local/lib/python3.10/dist-packages (from requests->bertviz) (2.0.7)\n",
            "Requirement already satisfied: certifi>=2017.4.17 in /usr/local/lib/python3.10/dist-packages (from requests->bertviz) (2024.7.4)\n",
            "Requirement already satisfied: python-dateutil<3.0.0,>=2.1 in /usr/local/lib/python3.10/dist-packages (from botocore<1.35.0,>=1.34.147->boto3->bertviz) (2.8.2)\n",
            "Requirement already satisfied: MarkupSafe>=2.0 in /usr/local/lib/python3.10/dist-packages (from jinja2->torch>=1.0->bertviz) (2.1.5)\n",
            "Requirement already satisfied: mpmath<1.4,>=1.1.0 in /usr/local/lib/python3.10/dist-packages (from sympy->torch>=1.0->bertviz) (1.3.0)\n",
            "Requirement already satisfied: six>=1.5 in /usr/local/lib/python3.10/dist-packages (from python-dateutil<3.0.0,>=2.1->botocore<1.35.0,>=1.34.147->boto3->bertviz) (1.16.0)\n",
            "Installing collected packages: nvidia-nvtx-cu12, nvidia-nvjitlink-cu12, nvidia-nccl-cu12, nvidia-curand-cu12, nvidia-cufft-cu12, nvidia-cuda-runtime-cu12, nvidia-cuda-nvrtc-cu12, nvidia-cuda-cupti-cu12, nvidia-cublas-cu12, jmespath, nvidia-cusparse-cu12, nvidia-cudnn-cu12, botocore, s3transfer, nvidia-cusolver-cu12, boto3, bertviz\n",
            "Successfully installed bertviz-1.4.0 boto3-1.34.147 botocore-1.34.147 jmespath-1.0.1 nvidia-cublas-cu12-12.1.3.1 nvidia-cuda-cupti-cu12-12.1.105 nvidia-cuda-nvrtc-cu12-12.1.105 nvidia-cuda-runtime-cu12-12.1.105 nvidia-cudnn-cu12-8.9.2.26 nvidia-cufft-cu12-11.0.2.54 nvidia-curand-cu12-10.3.2.106 nvidia-cusolver-cu12-11.4.5.107 nvidia-cusparse-cu12-12.1.0.106 nvidia-nccl-cu12-2.20.5 nvidia-nvjitlink-cu12-12.5.82 nvidia-nvtx-cu12-12.1.105 s3transfer-0.10.2\n"
          ]
        }
      ],
      "source": [
        "!pip install sentencepiece\n",
        "!pip install transformers\n",
        "!pip install bertviz"
      ]
    },
    {
      "cell_type": "code",
      "execution_count": null,
      "metadata": {
        "id": "3RXCEqNPckOh"
      },
      "outputs": [],
      "source": [
        "problem = \"\"\"\n",
        "<GOAL>ontable b1, clear b1, ontable b2, clear b2, ontable b3, clear b3, ontable b4, clear b4\n",
        "<INIT>handempty, ontable b1, on b2 b3, clear b2, ontable b3, on b4 b1, clear b4\n",
        "<ACTION> pick-up <PRE> clear x, ontable x, handempty <EFFECT> not ontable x, not clear x, not handempty, holding x\n",
        "<ACTION> put-down <PRE> holding x <EFFECT> not holding x, clear x, handempty, ontable x\n",
        "<ACTION> stack <PRE> holding x, clear y <EFFECT> not holding x, not clear y, clear x, handempty, on x y\n",
        "<ACTION> unstack <PRE> on x y, clear x, handempty <EFFECT> holding x, clear y, not clear x, not handempty, not on x y\"\n",
        "\"\"\""
      ]
    },
    {
      "cell_type": "code",
      "execution_count": null,
      "metadata": {
        "id": "O525PArVcqVN"
      },
      "outputs": [],
      "source": [
        "predicted_plan = \"unstack b2 b3, put-down b2, unstack b4 b1, put-down b4\""
      ]
    },
    {
      "cell_type": "code",
      "source": [
        "from transformers import RobertaTokenizer, T5ForConditionalGeneration\n",
        "# Downloading Plansformer from Dropbox\n",
        "!wget -O plansformer.zip https://www.dropbox.com/scl/fi/sc2syaax93i50bn14gn3w/plansformer_v3.zip?rlkey=a5qf2fanfn5028yx78drf1hic&dl=0\n",
        "!unzip plansformer.zip -d ./\n",
        "model_path = \"codet5-base/model_files\"\n",
        "tokenizer = RobertaTokenizer.from_pretrained(model_path, local_files_only=True)\n",
        "model = T5ForConditionalGeneration.from_pretrained(model_path, local_files_only=True)\n",
        "\n",
        "# Encode inputs\n",
        "sentence_a = problem\n",
        "sentence_b = predicted_plan\n",
        "\n",
        "encoder_input_ids = tokenizer(sentence_a, return_tensors=\"pt\", add_special_tokens=True).input_ids\n",
        "with tokenizer.as_target_tokenizer():\n",
        "    decoder_input_ids = tokenizer(sentence_b, return_tensors=\"pt\", add_special_tokens=True).input_ids\n",
        "\n",
        "outputs = model(input_ids=encoder_input_ids, decoder_input_ids=decoder_input_ids, output_attentions=True)\n",
        "\n",
        "encoder_text = tokenizer.convert_ids_to_tokens(encoder_input_ids[0])\n",
        "decoder_text = tokenizer.convert_ids_to_tokens(decoder_input_ids[0])"
      ],
      "metadata": {
        "colab": {
          "base_uri": "https://localhost:8080/"
        },
        "id": "YCGX5_sYLTT_",
        "outputId": "65fe40be-92df-4a65-f290-47cbc88aba17"
      },
      "execution_count": null,
      "outputs": [
        {
          "output_type": "stream",
          "name": "stdout",
          "text": [
            "--2024-07-24 13:26:37--  https://www.dropbox.com/scl/fi/sc2syaax93i50bn14gn3w/plansformer_v3.zip?rlkey=a5qf2fanfn5028yx78drf1hic\n",
            "Resolving www.dropbox.com (www.dropbox.com)... 162.125.65.18, 2620:100:6017:18::a27d:212\n",
            "Connecting to www.dropbox.com (www.dropbox.com)|162.125.65.18|:443... connected.\n",
            "HTTP request sent, awaiting response... 302 Found\n",
            "Location: https://ucfaf43f85224086652394230775.dl.dropboxusercontent.com/cd/0/inline/CXXE9AfQ39L2EcoKPuAn17ZPvnxTw-nc7rN6J1F7UK-_eWvcc7KXGOvoIgCxL6nbv_Xs57WiI0UJZRN6zBn4gDImgc4dsDhDITltV_VBdCJNhEeCpOWxyQv1fMY1oIefvHb58AqnzCNE9vQrNTgk115f/file# [following]\n",
            "--2024-07-24 13:26:38--  https://ucfaf43f85224086652394230775.dl.dropboxusercontent.com/cd/0/inline/CXXE9AfQ39L2EcoKPuAn17ZPvnxTw-nc7rN6J1F7UK-_eWvcc7KXGOvoIgCxL6nbv_Xs57WiI0UJZRN6zBn4gDImgc4dsDhDITltV_VBdCJNhEeCpOWxyQv1fMY1oIefvHb58AqnzCNE9vQrNTgk115f/file\n",
            "Resolving ucfaf43f85224086652394230775.dl.dropboxusercontent.com (ucfaf43f85224086652394230775.dl.dropboxusercontent.com)... 162.125.65.15, 2620:100:6017:15::a27d:20f\n",
            "Connecting to ucfaf43f85224086652394230775.dl.dropboxusercontent.com (ucfaf43f85224086652394230775.dl.dropboxusercontent.com)|162.125.65.15|:443... connected.\n",
            "HTTP request sent, awaiting response... 302 Found\n",
            "Location: /cd/0/inline2/CXWzxGlbcQxsMBV7QN-8FqQOfIAgQqvWkCHGs_sVzbFqY9b2y1SwqA4C8LABFZQGx0MW1NcSSCG4EfRb8Q2utOLfmn0ABh0QB1kSnOTj1t9tV2LZlYz5Pby4dpvUKkHPMDlvzn7GwrvFLWKb2H8H51wHT8n4teWHhFY5GW_-4gw-coSfgNElxxeAYjMDKC5ZEez6aGZOAlKOkWBByLFI_ifnS3ty4D1t1neUxGM1NG5DLTmAnahbybbaWUyZqlr9vhHbbFvCRI8NL1yhUi9kCd0UI7HAJgaWm-MiCqZcrMvV66jyP3dv6UfdyReIwZbamw4FrDe3QEqVVXIsEL6CwoxP5Yd6swHQ9E3Tk9kEeb1sEssOuTD7aBel8HshlJczYvc/file [following]\n",
            "--2024-07-24 13:26:39--  https://ucfaf43f85224086652394230775.dl.dropboxusercontent.com/cd/0/inline2/CXWzxGlbcQxsMBV7QN-8FqQOfIAgQqvWkCHGs_sVzbFqY9b2y1SwqA4C8LABFZQGx0MW1NcSSCG4EfRb8Q2utOLfmn0ABh0QB1kSnOTj1t9tV2LZlYz5Pby4dpvUKkHPMDlvzn7GwrvFLWKb2H8H51wHT8n4teWHhFY5GW_-4gw-coSfgNElxxeAYjMDKC5ZEez6aGZOAlKOkWBByLFI_ifnS3ty4D1t1neUxGM1NG5DLTmAnahbybbaWUyZqlr9vhHbbFvCRI8NL1yhUi9kCd0UI7HAJgaWm-MiCqZcrMvV66jyP3dv6UfdyReIwZbamw4FrDe3QEqVVXIsEL6CwoxP5Yd6swHQ9E3Tk9kEeb1sEssOuTD7aBel8HshlJczYvc/file\n",
            "Reusing existing connection to ucfaf43f85224086652394230775.dl.dropboxusercontent.com:443.\n",
            "HTTP request sent, awaiting response... 200 OK\n",
            "Length: 845181945 (806M) [application/zip]\n",
            "Saving to: ‘plansformer.zip’\n",
            "\n",
            "plansformer.zip     100%[===================>] 806.03M  27.8MB/s    in 30s     \n",
            "\n",
            "2024-07-24 13:27:10 (26.5 MB/s) - ‘plansformer.zip’ saved [845181945/845181945]\n",
            "\n",
            "Archive:  plansformer.zip\n",
            "replace ./codet5-base/predictions.csv? [y]es, [n]o, [A]ll, [N]one, [r]ename: N\n"
          ]
        },
        {
          "output_type": "stream",
          "name": "stderr",
          "text": [
            "/usr/local/lib/python3.10/dist-packages/transformers/tokenization_utils_base.py:4016: UserWarning: `as_target_tokenizer` is deprecated and will be removed in v5 of Transformers. You can tokenize your labels by using the argument `text_target` of the regular `__call__` method (either in the same call as your input texts if you use the same keyword arguments, or in a separate call.\n",
            "  warnings.warn(\n"
          ]
        }
      ]
    },
    {
      "cell_type": "markdown",
      "source": [
        "##Model_view"
      ],
      "metadata": {
        "id": "-Ph_oDIfMmM6"
      }
    },
    {
      "cell_type": "code",
      "source": [
        "from bertviz import model_view\n",
        "for layer in range(0, 12):  # Change this to the number of layers you want to visualize\n",
        "    html_model_view = model_view(\n",
        "        encoder_attention = outputs.encoder_attentions,\n",
        "        decoder_attention = outputs.decoder_attentions,\n",
        "        cross_attention = outputs.cross_attentions,\n",
        "        encoder_tokens = encoder_text,\n",
        "        decoder_tokens = decoder_text,\n",
        "        include_layers=[layer],\n",
        "        html_action='return',\n",
        "\n",
        "    )\n",
        "    display(html_model_view)\n",
        "\n",
        "    # Save the HTML content to a file in the current working directory\n",
        "    file_path = f\"/content/model_view_layer_{layer}.html\"\n",
        "    try:\n",
        "        with open(file_path, 'w') as file:\n",
        "            file.write(html_model_view.data)\n",
        "        print(f\"HTML file saved successfully for layer {layer}\")\n",
        "    except Exception as e:\n",
        "        print(f\"Error saving HTML file for layer {layer}: {e}\")"
      ],
      "metadata": {
        "id": "r5dJXNZuLnWI"
      },
      "execution_count": null,
      "outputs": []
    },
    {
      "cell_type": "markdown",
      "source": [
        "##Head_view"
      ],
      "metadata": {
        "id": "6Ux4yrJTOOWt"
      }
    },
    {
      "cell_type": "code",
      "source": [
        "from bertviz import head_view\n",
        "head_view(outputs.encoder_attentions, encoder_text, html_action='return')\n",
        "\n",
        "file_path = f\"/content/head_view.html\"\n",
        "try:\n",
        "    with open(file_path, 'w') as file:\n",
        "         file.write(html_model_view.data)\n",
        "    print(f\"HTML file saved successfully\")\n",
        "except Exception as e:\n",
        "    print(f\"Error saving HTML file: {e}\")"
      ],
      "metadata": {
        "colab": {
          "base_uri": "https://localhost:8080/"
        },
        "id": "4t8YRVK8OiP7",
        "outputId": "525310c9-3c54-4253-8b60-12461b35f747"
      },
      "execution_count": null,
      "outputs": [
        {
          "output_type": "stream",
          "name": "stdout",
          "text": [
            "HTML file saved successfully\n"
          ]
        }
      ]
    }
  ],
  "metadata": {
    "accelerator": "GPU",
    "colab": {
      "gpuType": "T4",
      "provenance": []
    },
    "kernelspec": {
      "display_name": "Python 3",
      "name": "python3"
    },
    "language_info": {
      "name": "python"
    }
  },
  "nbformat": 4,
  "nbformat_minor": 0
}